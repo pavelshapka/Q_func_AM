{
 "cells": [
  {
   "cell_type": "code",
   "execution_count": null,
   "metadata": {},
   "outputs": [],
   "source": [
    "# for Google Colab\n",
    "# !git clone https://github.com/pavelshapka/Q_func_AM.git\n",
    "# !pip3 install -r /content/Q_func_AM/requirements.txt\n",
    "# import os\n",
    "# os.chdir(\"/content/Q_func_AM\")"
   ]
  },
  {
   "cell_type": "code",
   "execution_count": null,
   "metadata": {},
   "outputs": [
    {
     "ename": "ImportError",
     "evalue": "attempted relative import with no known parent package",
     "output_type": "error",
     "traceback": [
      "\u001b[31m---------------------------------------------------------------------------\u001b[39m",
      "\u001b[31mImportError\u001b[39m                               Traceback (most recent call last)",
      "\u001b[36mCell\u001b[39m\u001b[36m \u001b[39m\u001b[32mIn[1]\u001b[39m\u001b[32m, line 4\u001b[39m\n\u001b[32m      1\u001b[39m \u001b[38;5;28;01mimport\u001b[39;00m\u001b[38;5;250m \u001b[39m\u001b[34;01mtorch\u001b[39;00m\n\u001b[32m      2\u001b[39m \u001b[38;5;28;01mimport\u001b[39;00m\u001b[38;5;250m \u001b[39m\u001b[34;01mtorchvision\u001b[39;00m\n\u001b[32m----> \u001b[39m\u001b[32m4\u001b[39m \u001b[38;5;28;01mfrom\u001b[39;00m\u001b[38;5;250m \u001b[39m\u001b[34;01m.\u001b[39;00m\u001b[34;01mdataloaders\u001b[39;00m\u001b[38;5;250m \u001b[39m\u001b[38;5;28;01mimport\u001b[39;00m get_dataloaders\n\u001b[32m      6\u001b[39m \u001b[38;5;28;01mimport\u001b[39;00m\u001b[38;5;250m \u001b[39m\u001b[34;01mjax\u001b[39;00m\n\u001b[32m      7\u001b[39m \u001b[38;5;28;01mimport\u001b[39;00m\u001b[38;5;250m \u001b[39m\u001b[34;01mmatplotlib\u001b[39;00m\u001b[34;01m.\u001b[39;00m\u001b[34;01mpyplot\u001b[39;00m\u001b[38;5;250m \u001b[39m\u001b[38;5;28;01mas\u001b[39;00m\u001b[38;5;250m \u001b[39m\u001b[34;01mplt\u001b[39;00m\n",
      "\u001b[31mImportError\u001b[39m: attempted relative import with no known parent package"
     ]
    }
   ],
   "source": [
    "from classification.default_loader import get_base_dataloaders, CIFAR10_MEANS, CIFAR10_STD\n",
    "from sas_stack.sars_dataloader import get_sars_dataloaders\n",
    "from sa_stack.sar_dataloader import get_sar_dataloaders\n",
    "\n",
    "import jax\n",
    "import matplotlib.pyplot as plt\n",
    "from classification.trainer import TrainerModule\n",
    "from classification.inception_v1 import InceptionNetV1\n",
    "from flax import linen as nn\n",
    "\n",
    "import numpy as np\n",
    "\n",
    "\n",
    "%load_ext autoreload\n",
    "%autoreload 2"
   ]
  },
  {
   "cell_type": "code",
   "execution_count": null,
   "metadata": {},
   "outputs": [],
   "source": [
    "num_steps = 15\n",
    "\n",
    "train_loader, test_loader = get_sars_dataloaders(batch_size=15,\n",
    "                                                 reward=10,\n",
    "                                                 gamma=0.95,\n",
    "                                                 num_steps=num_steps)"
   ]
  },
  {
   "cell_type": "code",
   "execution_count": null,
   "metadata": {},
   "outputs": [],
   "source": [
    "train_iter = iter(train_loader)\n",
    "images, rewards = next(train_iter)"
   ]
  },
  {
   "cell_type": "code",
   "execution_count": null,
   "metadata": {},
   "outputs": [],
   "source": [
    "states = images[..., :3]\n",
    "actions = images[..., 3:6]\n",
    "states_hat = images[..., 6:9]"
   ]
  },
  {
   "cell_type": "code",
   "execution_count": null,
   "metadata": {},
   "outputs": [],
   "source": [
    "def plot_trajectory(s, a, s_hat, num_steps=num_steps-1):\n",
    "    plt.figure(figsize=(20, 6))\n",
    "\n",
    "    for i in range(num_steps):\n",
    "        # State\n",
    "        plt.subplot(3, num_steps, i+1)\n",
    "        plt.imshow((s[i].numpy() * CIFAR10_STD + CIFAR10_MEANS))  # Денормализация\n",
    "        plt.title(f\"State {i}\")\n",
    "        plt.axis('off')\n",
    "\n",
    "        # Action (визуализируем как разницу)\n",
    "        plt.subplot(3, num_steps, num_steps+i+1)\n",
    "        plt.imshow((a[i].numpy() * CIFAR10_STD + CIFAR10_MEANS))\n",
    "        plt.title(f\"Action {i}\")\n",
    "        plt.axis('off')\n",
    "\n",
    "        # Next State\n",
    "        plt.subplot(3, num_steps, 2*num_steps+i+1)\n",
    "        plt.imshow((s_hat[i].numpy() * CIFAR10_STD + CIFAR10_MEANS))\n",
    "        plt.title(f\"Next State {i}\")\n",
    "        plt.axis('off')\n",
    "\n",
    "    plt.tight_layout()\n",
    "    plt.show()\n",
    "\n",
    "# Визуализируем первую траекторию в батче\n",
    "plot_trajectory(states, actions, states_hat)"
   ]
  },
  {
   "cell_type": "markdown",
   "metadata": {},
   "source": [
    "## Проверим, что модель корректна через обучение классификации на CIFAR-10"
   ]
  },
  {
   "cell_type": "code",
   "execution_count": null,
   "metadata": {},
   "outputs": [],
   "source": [
    "train_loader, val_loader, test_loader = get_base_dataloaders(batch_size=16)"
   ]
  },
  {
   "cell_type": "code",
   "execution_count": null,
   "metadata": {},
   "outputs": [],
   "source": [
    "train_iter = iter(train_loader)\n",
    "images, _ = next(train_iter)"
   ]
  },
  {
   "cell_type": "code",
   "execution_count": null,
   "metadata": {},
   "outputs": [],
   "source": [
    "NUM_IMAGES = 10\n",
    "\n",
    "nrows, ncols = 2, 5\n",
    "fig, axs = plt.subplots(figsize=(20, 10), nrows=nrows, ncols=ncols)\n",
    "\n",
    "for i in range(NUM_IMAGES):\n",
    "    img = (images[i]._numpy() * CIFAR10_STD + CIFAR10_MEANS)\n",
    "    axs[i//ncols, i%ncols].imshow(img)\n",
    "    axs[i//ncols, i%ncols].axis(\"off\")\n",
    "\n",
    "plt.show()\n",
    "plt.close()"
   ]
  },
  {
   "cell_type": "code",
   "execution_count": null,
   "metadata": {},
   "outputs": [],
   "source": [
    "def train_classifier(*args, num_epochs=200, start_from=0, train=True, **kwargs):\n",
    "    # Create a trainer module with specified hyperparameters\n",
    "    trainer = TrainerModule(*args, **kwargs)\n",
    "    if trainer.checkpoint_exists():\n",
    "        start_from = trainer.load_model()\n",
    "\n",
    "    if train:\n",
    "        print(f\"current_epoch = {start_from}\")\n",
    "        trainer.train_model(train_loader,\n",
    "                            val_loader,\n",
    "                            rng=jax.random.PRNGKey(42),\n",
    "                            num_epochs=num_epochs,\n",
    "                            start_from=start_from)\n",
    "    # Test trained model\n",
    "    val_acc = trainer.eval_model(val_loader)\n",
    "    test_acc = trainer.eval_model(test_loader)\n",
    "    return trainer, {'val': val_acc, 'test': test_acc}"
   ]
  },
  {
   "cell_type": "code",
   "execution_count": null,
   "metadata": {},
   "outputs": [],
   "source": [
    "googlenet_trainer, googlenet_results = train_classifier(model_class=InceptionNetV1,\n",
    "                                                        model_name=\"InceptionNetV1\",\n",
    "                                                        model_hparams={\"num_classes\": 10,\n",
    "                                                                       \"activation\": nn.relu},\n",
    "                                                        optimizer_name=\"adamw\",\n",
    "                                                        optimizer_hparams={\"lr\": 3e-4,\n",
    "                                                                           \"weight_decay\": 1e-5},\n",
    "                                                        exmp_imgs=jax.device_put(next(iter(train_loader))[0]._numpy()),\n",
    "                                                        num_epochs=10,\n",
    "                                                        train=True)"
   ]
  },
  {
   "cell_type": "code",
   "execution_count": null,
   "metadata": {},
   "outputs": [],
   "source": [
    "googlenet_results"
   ]
  }
 ],
 "metadata": {
  "kernelspec": {
   "display_name": ".venv",
   "language": "python",
   "name": "python3"
  },
  "language_info": {
   "codemirror_mode": {
    "name": "ipython",
    "version": 3
   },
   "file_extension": ".py",
   "mimetype": "text/x-python",
   "name": "python",
   "nbconvert_exporter": "python",
   "pygments_lexer": "ipython3",
   "version": "3.13.1"
  }
 },
 "nbformat": 4,
 "nbformat_minor": 2
}
